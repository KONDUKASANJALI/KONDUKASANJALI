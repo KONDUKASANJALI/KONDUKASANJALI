{
  "nbformat": 4,
  "nbformat_minor": 0,
  "metadata": {
    "colab": {
      "provenance": [],
      "authorship_tag": "ABX9TyPsdCJhdzqppxxPq/rDStWR",
      "include_colab_link": true
    },
    "kernelspec": {
      "name": "python3",
      "display_name": "Python 3"
    },
    "language_info": {
      "name": "python"
    }
  },
  "cells": [
    {
      "cell_type": "markdown",
      "metadata": {
        "id": "view-in-github",
        "colab_type": "text"
      },
      "source": [
        "<a href=\"https://colab.research.google.com/github/KONDUKASANJALI/test-cases-python/blob/main/python%20basic%20questions%20(test%20cases).ipynb\" target=\"_parent\"><img src=\"https://colab.research.google.com/assets/colab-badge.svg\" alt=\"Open In Colab\"/></a>"
      ]
    },
    {
      "cell_type": "markdown",
      "source": [
        "write a program to take single -digit number from the keyboard and print its value in english word"
      ],
      "metadata": {
        "id": "dbO0b9TyOVOk"
      }
    },
    {
      "cell_type": "code",
      "source": [
        "alpha=int(input(\"enter a single digit number from keyboard:\"))"
      ],
      "metadata": {
        "id": "2tEZVk79ORpO"
      },
      "execution_count": null,
      "outputs": []
    },
    {
      "cell_type": "code",
      "source": [
        "if alpha==0:\n",
        "   print(\"0:zero\")\n",
        "elif alpha==1:\n",
        "   print(\"1:one\")\n",
        "elif alpha==2:\n",
        "   print(\"2:two\")\n",
        "elif alpha==3:\n",
        "   print(\"3:three\")\n",
        "elif alpha==4:\n",
        "    print(\"4:four\")\n",
        "elif alpha==5:\n",
        "   print(\"5:five\")\n",
        "elif alpha==6:\n",
        "    print(\"6:six\")\n",
        "elif alpha==7:\n",
        "    print(\"7:seven\")\n",
        "elif alpha==8:\n",
        "    print(\"8:eight\")\n",
        "elif alpha==9:\n",
        "   print(\"9:nine\")\n",
        "else:\n",
        "   print(\"invalid digit choosen\")\n",
        "\n",
        "\n"
      ],
      "metadata": {
        "colab": {
          "base_uri": "https://localhost:8080/"
        },
        "id": "jejdi6ox6za5",
        "outputId": "3986fa54-5145-4536-8e1b-d9c9396062f1"
      },
      "execution_count": null,
      "outputs": [
        {
          "output_type": "stream",
          "name": "stdout",
          "text": [
            "5:five\n"
          ]
        }
      ]
    },
    {
      "cell_type": "markdown",
      "source": [
        "Write a program to reverse the order of words"
      ],
      "metadata": {
        "id": "-SZFXo_3Oz9g"
      }
    },
    {
      "cell_type": "code",
      "source": [
        "Var=\"python is a great text processing language\""
      ],
      "metadata": {
        "id": "T2cs3SsP6ziI"
      },
      "execution_count": null,
      "outputs": []
    },
    {
      "cell_type": "code",
      "source": [
        "Str1=Var.split( )\n",
        "Str1"
      ],
      "metadata": {
        "colab": {
          "base_uri": "https://localhost:8080/"
        },
        "id": "DokrlYF6VUPO",
        "outputId": "9a2d9e1e-d54d-41b2-c956-028144637bbf"
      },
      "execution_count": null,
      "outputs": [
        {
          "output_type": "execute_result",
          "data": {
            "text/plain": [
              "['python', 'is', 'a', 'great', 'text', 'processing', 'language']"
            ]
          },
          "metadata": {},
          "execution_count": 53
        }
      ]
    },
    {
      "cell_type": "code",
      "source": [
        "Lst=reversed(Str1)\n",
        "Lst"
      ],
      "metadata": {
        "colab": {
          "base_uri": "https://localhost:8080/"
        },
        "id": "t4nmAXRsVaTD",
        "outputId": "3162f4f4-66b7-43ad-f92b-3acd9f2194da"
      },
      "execution_count": null,
      "outputs": [
        {
          "output_type": "execute_result",
          "data": {
            "text/plain": [
              "<list_reverseiterator at 0x7e315c6d6950>"
            ]
          },
          "metadata": {},
          "execution_count": 45
        }
      ]
    },
    {
      "cell_type": "code",
      "source": [
        "Words=' '.join(Lst)"
      ],
      "metadata": {
        "id": "u9SzvmQpVhgy"
      },
      "execution_count": null,
      "outputs": []
    },
    {
      "cell_type": "code",
      "source": [
        "Words"
      ],
      "metadata": {
        "colab": {
          "base_uri": "https://localhost:8080/",
          "height": 53
        },
        "id": "QK-LpTzDZxDP",
        "outputId": "5272b798-b6b9-4667-cbb0-0e60f7772e71"
      },
      "execution_count": null,
      "outputs": [
        {
          "output_type": "execute_result",
          "data": {
            "text/plain": [
              "'language processing text great a is python'"
            ],
            "application/vnd.google.colaboratory.intrinsic+json": {
              "type": "string"
            }
          },
          "metadata": {},
          "execution_count": 47
        }
      ]
    },
    {
      "cell_type": "code",
      "source": [
        "Str2=Str1[::-1]"
      ],
      "metadata": {
        "id": "yfNmxwA0Z59o"
      },
      "execution_count": null,
      "outputs": []
    },
    {
      "cell_type": "code",
      "source": [
        "Str2"
      ],
      "metadata": {
        "colab": {
          "base_uri": "https://localhost:8080/"
        },
        "id": "AktXB_V1Z6BN",
        "outputId": "d500499e-cab1-4e21-a339-31ec1e1df24e"
      },
      "execution_count": null,
      "outputs": [
        {
          "output_type": "execute_result",
          "data": {
            "text/plain": [
              "['language', 'processing', 'text', 'great', 'a', 'is', 'python']"
            ]
          },
          "metadata": {},
          "execution_count": 55
        }
      ]
    },
    {
      "cell_type": "markdown",
      "source": [
        "Write a program to print characters at odd positions and even positions of string"
      ],
      "metadata": {
        "id": "D386bOayPRcD"
      }
    },
    {
      "cell_type": "code",
      "source": [
        "Str1"
      ],
      "metadata": {
        "colab": {
          "base_uri": "https://localhost:8080/"
        },
        "id": "RbDhNnKzba84",
        "outputId": "97d366e1-61cc-4a61-8367-38608864a66d"
      },
      "execution_count": null,
      "outputs": [
        {
          "output_type": "execute_result",
          "data": {
            "text/plain": [
              "['python', 'is', 'a', 'great', 'text', 'processing', 'language']"
            ]
          },
          "metadata": {},
          "execution_count": 56
        }
      ]
    },
    {
      "cell_type": "code",
      "source": [
        "Str2=Str1[::2]#even position"
      ],
      "metadata": {
        "id": "DDdvqBoAba_2"
      },
      "execution_count": null,
      "outputs": []
    },
    {
      "cell_type": "code",
      "source": [
        "Str2"
      ],
      "metadata": {
        "colab": {
          "base_uri": "https://localhost:8080/"
        },
        "id": "kWqa6Exdb3p4",
        "outputId": "8afc86d0-4cb4-48b4-9d9c-6b3577368d61"
      },
      "execution_count": null,
      "outputs": [
        {
          "output_type": "execute_result",
          "data": {
            "text/plain": [
              "['python', 'a', 'text', 'language']"
            ]
          },
          "metadata": {},
          "execution_count": 58
        }
      ]
    },
    {
      "cell_type": "code",
      "source": [
        "Str3=Str1[1::2]#odd position"
      ],
      "metadata": {
        "id": "u2t6wqAwcCFt"
      },
      "execution_count": null,
      "outputs": []
    },
    {
      "cell_type": "code",
      "source": [
        "Str3"
      ],
      "metadata": {
        "colab": {
          "base_uri": "https://localhost:8080/"
        },
        "id": "INLM88u4cKoc",
        "outputId": "5fe1f549-6bb5-4122-e8c1-5692e29f11a3"
      },
      "execution_count": null,
      "outputs": [
        {
          "output_type": "execute_result",
          "data": {
            "text/plain": [
              "['is', 'great', 'processing']"
            ]
          },
          "metadata": {},
          "execution_count": 69
        }
      ]
    },
    {
      "cell_type": "markdown",
      "source": [
        "#implement a logic,prepare a list of 7 players,where players should not be in restricted players list,enter exist when it is done.\n",
        "# Restricted_players=[\"john\",\"mac\",\"rac\",\"king\",\"mic\",\"rac\"]"
      ],
      "metadata": {
        "id": "3KaW9AiRPu6L"
      }
    },
    {
      "cell_type": "code",
      "source": [
        "print(\"If you want to add players in players list give player name in  inp\")\n",
        "print(\"if player list is filled of seven players then you don't need to add players, enter exist in inp \")"
      ],
      "metadata": {
        "id": "XygHWJdhFd9Q"
      },
      "execution_count": null,
      "outputs": []
    },
    {
      "cell_type": "code",
      "source": [
        "players=[]"
      ],
      "metadata": {
        "id": "WAw1-AsYx19S"
      },
      "execution_count": null,
      "outputs": []
    },
    {
      "cell_type": "code",
      "source": [
        "Restricted_players=[\"john\",\"mac\",\"rac\",\"king\",\"mic\",\"rac\"]\n",
        "Restricted_players"
      ],
      "metadata": {
        "id": "SGXI_fGxx2CC",
        "colab": {
          "base_uri": "https://localhost:8080/"
        },
        "outputId": "2c5c8b60-fc10-4809-d655-2c6a862731ce"
      },
      "execution_count": null,
      "outputs": [
        {
          "output_type": "execute_result",
          "data": {
            "text/plain": [
              "['john', 'mac', 'rac', 'king', 'mic', 'rac']"
            ]
          },
          "metadata": {},
          "execution_count": 69
        }
      ]
    },
    {
      "cell_type": "code",
      "source": [
        "inp=str(input(\"enter a name:\"))"
      ],
      "metadata": {
        "id": "ihDwTnjPx2Fw",
        "colab": {
          "base_uri": "https://localhost:8080/"
        },
        "outputId": "f1097b6c-872d-4389-e79b-b87bfcdea833"
      },
      "execution_count": null,
      "outputs": [
        {
          "name": "stdout",
          "output_type": "stream",
          "text": [
            "enter a name:rac\n"
          ]
        }
      ]
    },
    {
      "cell_type": "code",
      "source": [
        "y=inp.split( )\n",
        "y"
      ],
      "metadata": {
        "id": "aqKvhSCrx2KQ",
        "colab": {
          "base_uri": "https://localhost:8080/"
        },
        "outputId": "ea2e6efe-4dd9-401b-b255-e7abf57cafb3"
      },
      "execution_count": null,
      "outputs": [
        {
          "output_type": "execute_result",
          "data": {
            "text/plain": [
              "['rac']"
            ]
          },
          "metadata": {},
          "execution_count": 80
        }
      ]
    },
    {
      "cell_type": "code",
      "source": [
        "for x in y:\n",
        "  if x==\"exist\":\n",
        "    print(\"players are filled\")\n",
        "  elif x in Restricted_players:\n",
        "    print(\"the player is restricted\")\n",
        "  else:\n",
        "      players.append(x)\n",
        "      print(players)"
      ],
      "metadata": {
        "id": "be_Hf3w3x2Oj",
        "colab": {
          "base_uri": "https://localhost:8080/"
        },
        "outputId": "ea52d7f0-dc68-4b38-c8c0-44ab9592d8db"
      },
      "execution_count": null,
      "outputs": [
        {
          "output_type": "stream",
          "name": "stdout",
          "text": [
            "the player is restricted\n"
          ]
        }
      ]
    },
    {
      "cell_type": "markdown",
      "source": [
        "Write a program to print characters at odd positions and even positions of string"
      ],
      "metadata": {
        "id": "Il5hzvhtQEY4"
      }
    },
    {
      "cell_type": "code",
      "source": [
        "Var"
      ],
      "metadata": {
        "id": "U1W3ZbKbx2WB",
        "colab": {
          "base_uri": "https://localhost:8080/",
          "height": 53
        },
        "outputId": "12bc4c90-b0dd-440d-b322-bc1033e88b88"
      },
      "execution_count": null,
      "outputs": [
        {
          "output_type": "execute_result",
          "data": {
            "text/plain": [
              "'python is a great text processing language'"
            ],
            "application/vnd.google.colaboratory.intrinsic+json": {
              "type": "string"
            }
          },
          "metadata": {},
          "execution_count": 4
        }
      ]
    },
    {
      "cell_type": "code",
      "source": [
        "Str1=Var[::2]"
      ],
      "metadata": {
        "id": "rKq-wQ1REzuT"
      },
      "execution_count": null,
      "outputs": []
    },
    {
      "cell_type": "code",
      "source": [
        "Str1"
      ],
      "metadata": {
        "colab": {
          "base_uri": "https://localhost:8080/",
          "height": 35
        },
        "id": "HAWYJAm0Ezye",
        "outputId": "db0b8fae-eca0-4fcc-e98e-22a4fc99af78"
      },
      "execution_count": null,
      "outputs": [
        {
          "output_type": "execute_result",
          "data": {
            "text/plain": [
              "'pto sagettx rcsiglnug'"
            ],
            "application/vnd.google.colaboratory.intrinsic+json": {
              "type": "string"
            }
          },
          "metadata": {},
          "execution_count": 6
        }
      ]
    },
    {
      "cell_type": "code",
      "source": [
        "Str2=Var[1::2]"
      ],
      "metadata": {
        "id": "ZFGxq-CQEz1Z"
      },
      "execution_count": null,
      "outputs": []
    },
    {
      "cell_type": "code",
      "source": [
        "Str2"
      ],
      "metadata": {
        "colab": {
          "base_uri": "https://localhost:8080/",
          "height": 35
        },
        "id": "6MkSMVHoEz7t",
        "outputId": "f37c7486-4f3e-409f-9463-49615aac9af6"
      },
      "execution_count": null,
      "outputs": [
        {
          "output_type": "execute_result",
          "data": {
            "text/plain": [
              "'yhni  ra etpoesn agae'"
            ],
            "application/vnd.google.colaboratory.intrinsic+json": {
              "type": "string"
            }
          },
          "metadata": {},
          "execution_count": 8
        }
      ]
    },
    {
      "cell_type": "markdown",
      "source": [
        "USER FRIENDLY CALCULATOR\n"
      ],
      "metadata": {
        "id": "TyuM2chDF5W-"
      }
    },
    {
      "cell_type": "code",
      "source": [
        "print(\"ADDITION, +\")\n",
        "print(\"SUBTRACTION, -\")\n",
        "print(\"MULTIPLICATION, *\")\n",
        "print(\"DIVISION, /\")\n"
      ],
      "metadata": {
        "colab": {
          "base_uri": "https://localhost:8080/"
        },
        "id": "EoU74EEtF-mk",
        "outputId": "da51895e-0596-4597-ce6d-e939d40ef3b9"
      },
      "execution_count": 21,
      "outputs": [
        {
          "output_type": "stream",
          "name": "stdout",
          "text": [
            "ADDITION, +\n",
            "SUBTRACTION, -\n",
            "MULTIPLICATION, *\n",
            "DIVISION, /\n"
          ]
        }
      ]
    },
    {
      "cell_type": "code",
      "source": [
        "print('Choose option as +,-,*,/')"
      ],
      "metadata": {
        "colab": {
          "base_uri": "https://localhost:8080/"
        },
        "id": "enelYMGdF-qC",
        "outputId": "7802572f-63c8-4201-92fb-53496dccff83"
      },
      "execution_count": 23,
      "outputs": [
        {
          "output_type": "stream",
          "name": "stdout",
          "text": [
            "Choose option as +,-,*,/\n"
          ]
        }
      ]
    },
    {
      "cell_type": "code",
      "source": [
        "oper=input(\"enter any one of the four operators from above: \")"
      ],
      "metadata": {
        "colab": {
          "base_uri": "https://localhost:8080/"
        },
        "id": "OoPmkFU5lRZR",
        "outputId": "6a331d88-63e1-46c8-d6af-a6badc285608"
      },
      "execution_count": 24,
      "outputs": [
        {
          "name": "stdout",
          "output_type": "stream",
          "text": [
            "enter any one of the four operators from above: %\n"
          ]
        }
      ]
    },
    {
      "cell_type": "code",
      "source": [
        "num1=int(input(\"Enter a number:\"))\n",
        "num2=int(input(\"Enter a number:\"))"
      ],
      "metadata": {
        "colab": {
          "base_uri": "https://localhost:8080/"
        },
        "id": "q6JJvTmHlRcI",
        "outputId": "138c4014-97bf-4db6-9465-e9a4096494f2"
      },
      "execution_count": 25,
      "outputs": [
        {
          "name": "stdout",
          "output_type": "stream",
          "text": [
            "Enter a number:3\n",
            "Enter a number:5\n"
          ]
        }
      ]
    },
    {
      "cell_type": "code",
      "source": [
        "if oper==\"+\":\n",
        "  num1+num2\n",
        "  print(\"addition is\" + \" \" + str(num1+num2))\n",
        "elif oper==\"-\":\n",
        "  num1-num2\n",
        "  print(\"Subtraction is\" + \" \" + str(num1-num2))\n",
        "elif oper==\"*\":\n",
        "  num1*num2\n",
        "  print(\"Multiplication is\" + \" \" + str(num1*num2))\n",
        "elif oper==\"/\":\n",
        "  num1/num2\n",
        "  print(\"division is\" + \" \" + str(num1/num2))\n",
        "else:\n",
        "  print(\"Invalid operator choosed\")\n"
      ],
      "metadata": {
        "colab": {
          "base_uri": "https://localhost:8080/"
        },
        "id": "qEEx1w-llRfZ",
        "outputId": "3cb008bd-31f9-478f-e4c2-34f78e1063c6"
      },
      "execution_count": 26,
      "outputs": [
        {
          "output_type": "stream",
          "name": "stdout",
          "text": [
            "Invalid operator choosed\n"
          ]
        }
      ]
    },
    {
      "cell_type": "markdown",
      "source": [
        "How do we take the sentence \"Python is a great text processing language\" and print one word on each line"
      ],
      "metadata": {
        "id": "olVYEa6uQqtF"
      }
    },
    {
      "cell_type": "code",
      "source": [
        "Stri1=\"python is a great text processing language\"\n",
        "Stri1"
      ],
      "metadata": {
        "colab": {
          "base_uri": "https://localhost:8080/",
          "height": 35
        },
        "id": "g2SmVIc3QrVc",
        "outputId": "ed10104b-990d-4483-a85a-e513c40d2d8d"
      },
      "execution_count": 29,
      "outputs": [
        {
          "output_type": "execute_result",
          "data": {
            "text/plain": [
              "'python is a great text processing language'"
            ],
            "application/vnd.google.colaboratory.intrinsic+json": {
              "type": "string"
            }
          },
          "metadata": {},
          "execution_count": 29
        }
      ]
    },
    {
      "cell_type": "code",
      "source": [
        "Read=Stri1.split(\" \")"
      ],
      "metadata": {
        "id": "j-AZ2V5cQric"
      },
      "execution_count": 30,
      "outputs": []
    },
    {
      "cell_type": "code",
      "source": [
        "Read"
      ],
      "metadata": {
        "colab": {
          "base_uri": "https://localhost:8080/"
        },
        "id": "gTUHsuWRQrlV",
        "outputId": "a6269201-a47f-4800-9e42-42e6be3e4b71"
      },
      "execution_count": 31,
      "outputs": [
        {
          "output_type": "execute_result",
          "data": {
            "text/plain": [
              "['python', 'is', 'a', 'great', 'text', 'processing', 'language']"
            ]
          },
          "metadata": {},
          "execution_count": 31
        }
      ]
    },
    {
      "cell_type": "code",
      "source": [
        "for i in Read:\n",
        "    print(i,end=\"\\n\")\n",
        "    print()"
      ],
      "metadata": {
        "colab": {
          "base_uri": "https://localhost:8080/"
        },
        "id": "2CevuX92QroT",
        "outputId": "38e16f1c-1677-492d-91ff-f9f6575b755f"
      },
      "execution_count": 32,
      "outputs": [
        {
          "output_type": "stream",
          "name": "stdout",
          "text": [
            "python\n",
            "\n",
            "is\n",
            "\n",
            "a\n",
            "\n",
            "great\n",
            "\n",
            "text\n",
            "\n",
            "processing\n",
            "\n",
            "language\n",
            "\n"
          ]
        }
      ]
    },
    {
      "cell_type": "markdown",
      "source": [
        "Write a program to check whether the given number is in between 1 and 100"
      ],
      "metadata": {
        "id": "ZhT2FIl5Q99r"
      }
    },
    {
      "cell_type": "code",
      "source": [
        "def numbers_range(x):\n",
        "  if x in range(1,101):\n",
        "    return(\"number is in range:\",x)\n",
        "  if x  not in range(1,101):\n",
        "    return(\"number is not in range\",x)"
      ],
      "metadata": {
        "id": "PoS1qxLGQrru"
      },
      "execution_count": 40,
      "outputs": []
    },
    {
      "cell_type": "code",
      "source": [
        "number=int(input(\"Enter a number:\"))"
      ],
      "metadata": {
        "colab": {
          "base_uri": "https://localhost:8080/"
        },
        "id": "Pfg5DXtfQr4m",
        "outputId": "1afa06d9-b753-430d-e81d-df85159b49a6"
      },
      "execution_count": 43,
      "outputs": [
        {
          "name": "stdout",
          "output_type": "stream",
          "text": [
            "Enter a number:56\n"
          ]
        }
      ]
    },
    {
      "cell_type": "code",
      "source": [
        "numeric=numbers_range(number)\n",
        "print(numeric)"
      ],
      "metadata": {
        "colab": {
          "base_uri": "https://localhost:8080/"
        },
        "id": "1D2KBGpxSy_J",
        "outputId": "21ec5479-086d-481c-a33b-3017ff6fe6bd"
      },
      "execution_count": 44,
      "outputs": [
        {
          "output_type": "stream",
          "name": "stdout",
          "text": [
            "('number is in range:', 56)\n"
          ]
        }
      ]
    }
  ]
}