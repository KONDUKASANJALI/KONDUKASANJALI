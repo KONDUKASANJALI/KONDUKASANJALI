{
  "nbformat": 4,
  "nbformat_minor": 0,
  "metadata": {
    "colab": {
      "provenance": [],
      "authorship_tag": "ABX9TyOMZchOPiklwmy2eO/j+0t0",
      "include_colab_link": true
    },
    "kernelspec": {
      "name": "python3",
      "display_name": "Python 3"
    },
    "language_info": {
      "name": "python"
    }
  },
  "cells": [
    {
      "cell_type": "markdown",
      "metadata": {
        "id": "view-in-github",
        "colab_type": "text"
      },
      "source": [
        "<a href=\"https://colab.research.google.com/github/KONDUKASANJALI/test-cases-python/blob/main/07_08_23(solved_questions).ipynb\" target=\"_parent\"><img src=\"https://colab.research.google.com/assets/colab-badge.svg\" alt=\"Open In Colab\"/></a>"
      ]
    },
    {
      "cell_type": "code",
      "source": [
        "cars=[\"bmw\",\"kia\",\"audi\",\"toyoto\"]\n",
        "# if car is audi then print audi in capitals, if not the first letter only should be in upper."
      ],
      "metadata": {
        "id": "La6CrDRTWL_D"
      },
      "execution_count": null,
      "outputs": []
    },
    {
      "cell_type": "code",
      "source": [
        "for car in cars:\n",
        "  if car==\"audi\":\n",
        "   print(car.upper())\n",
        "  else:\n",
        "    print(car.title())\n",
        "\n"
      ],
      "metadata": {
        "colab": {
          "base_uri": "https://localhost:8080/"
        },
        "id": "cK3U6iedWMCT",
        "outputId": "2e2e2b12-8398-41f0-b10e-70371abf9f67"
      },
      "execution_count": null,
      "outputs": [
        {
          "output_type": "stream",
          "name": "stdout",
          "text": [
            "Bmw\n",
            "Kia\n",
            "AUDI\n",
            "Toyoto\n"
          ]
        }
      ]
    },
    {
      "cell_type": "markdown",
      "source": [
        "solving given questions(07/08/2023)\n",
        "\n"
      ],
      "metadata": {
        "id": "aqL_afUKcqpD"
      }
    },
    {
      "cell_type": "code",
      "source": [
        "# how can you convert number to string with an example"
      ],
      "metadata": {
        "id": "q_7VZFCeC9hl"
      },
      "execution_count": null,
      "outputs": []
    },
    {
      "cell_type": "code",
      "source": [
        "books = 53"
      ],
      "metadata": {
        "id": "wSSJts01c0xJ"
      },
      "execution_count": 1,
      "outputs": []
    },
    {
      "cell_type": "code",
      "source": [
        "# type casting method\n",
        "num_books =str(books)\n",
        "print(num_books)\n",
        "type(books)"
      ],
      "metadata": {
        "colab": {
          "base_uri": "https://localhost:8080/"
        },
        "id": "kVKE22V2ec5Q",
        "outputId": "94412624-552c-4070-b32d-b683d694df00"
      },
      "execution_count": 2,
      "outputs": [
        {
          "output_type": "stream",
          "name": "stdout",
          "text": [
            "53\n"
          ]
        },
        {
          "output_type": "execute_result",
          "data": {
            "text/plain": [
              "int"
            ]
          },
          "metadata": {},
          "execution_count": 2
        }
      ]
    },
    {
      "cell_type": "code",
      "source": [
        "# second method\n",
        "books = 53\n",
        "type(books)"
      ],
      "metadata": {
        "colab": {
          "base_uri": "https://localhost:8080/"
        },
        "id": "xSO_IZk_eOYk",
        "outputId": "a193a750-dba5-4cef-9f88-c21af59c4724"
      },
      "execution_count": 3,
      "outputs": [
        {
          "output_type": "execute_result",
          "data": {
            "text/plain": [
              "int"
            ]
          },
          "metadata": {},
          "execution_count": 3
        }
      ]
    },
    {
      "cell_type": "code",
      "source": [
        "books =\"53\"\n",
        "type(books)"
      ],
      "metadata": {
        "colab": {
          "base_uri": "https://localhost:8080/"
        },
        "id": "hV5LT0zleSt0",
        "outputId": "ae86a37d-7452-40b3-fc5c-2f441ad2d36d"
      },
      "execution_count": 4,
      "outputs": [
        {
          "output_type": "execute_result",
          "data": {
            "text/plain": [
              "str"
            ]
          },
          "metadata": {},
          "execution_count": 4
        }
      ]
    },
    {
      "cell_type": "code",
      "source": [
        "# write a program to find distinct colors from below lst"
      ],
      "metadata": {
        "id": "PtnQJZvmgUHY"
      },
      "execution_count": null,
      "outputs": []
    },
    {
      "cell_type": "code",
      "source": [
        "colors=[\"red\",\"Yellow\",\"red\",\"green\",\"green\"]"
      ],
      "metadata": {
        "id": "PNHFMYFxgUMW"
      },
      "execution_count": 5,
      "outputs": []
    },
    {
      "cell_type": "code",
      "source": [
        "dist_colors=set(colors)"
      ],
      "metadata": {
        "id": "Lghve7l1ktqb"
      },
      "execution_count": 6,
      "outputs": []
    },
    {
      "cell_type": "code",
      "source": [
        "print(dist_colors)\n"
      ],
      "metadata": {
        "colab": {
          "base_uri": "https://localhost:8080/"
        },
        "id": "Db72Yes3gUSE",
        "outputId": "f59faae4-194d-4565-e0d6-5e1ea8ed5285"
      },
      "execution_count": 7,
      "outputs": [
        {
          "output_type": "stream",
          "name": "stdout",
          "text": [
            "{'red', 'Yellow', 'green'}\n"
          ]
        }
      ]
    },
    {
      "cell_type": "code",
      "source": [
        "# write a program to find out largest number in array\n"
      ],
      "metadata": {
        "id": "ncwNLiQ3gUVN"
      },
      "execution_count": 8,
      "outputs": []
    },
    {
      "cell_type": "code",
      "source": [
        "arr1=[23,45,67,89,65,43]\n",
        "print(arr1)"
      ],
      "metadata": {
        "colab": {
          "base_uri": "https://localhost:8080/"
        },
        "id": "-JcTXy77gUYl",
        "outputId": "eeb15d65-3c7f-40bb-982e-f9ae10382647"
      },
      "execution_count": 9,
      "outputs": [
        {
          "output_type": "stream",
          "name": "stdout",
          "text": [
            "[23, 45, 67, 89, 65, 43]\n"
          ]
        }
      ]
    },
    {
      "cell_type": "code",
      "source": [
        "max(arr1)"
      ],
      "metadata": {
        "colab": {
          "base_uri": "https://localhost:8080/"
        },
        "id": "u7ySzTyogUbe",
        "outputId": "2fb91229-34d2-4249-e6de-95af499820ac"
      },
      "execution_count": 10,
      "outputs": [
        {
          "output_type": "execute_result",
          "data": {
            "text/plain": [
              "89"
            ]
          },
          "metadata": {},
          "execution_count": 10
        }
      ]
    },
    {
      "cell_type": "code",
      "source": [
        "# write a program to find common letters from string [\"FLASH\",\"SMASH\"]\n"
      ],
      "metadata": {
        "id": "nooUXOBCgUe1"
      },
      "execution_count": null,
      "outputs": []
    },
    {
      "cell_type": "code",
      "source": [
        "x=\"FLASH\"\n",
        "y=\"SMASH\"\n",
        "lst=list()"
      ],
      "metadata": {
        "id": "Vv8-t8h1o9WJ"
      },
      "execution_count": 11,
      "outputs": []
    },
    {
      "cell_type": "code",
      "source": [
        "for i in x:\n",
        "  for m in y:\n",
        "    if i==m:\n",
        "      lst.append(i)\n",
        "    print(lst)"
      ],
      "metadata": {
        "colab": {
          "base_uri": "https://localhost:8080/"
        },
        "id": "GphJjbuno9f-",
        "outputId": "7cda1cd1-9f15-4ce4-d257-b7ee2f7f5b33"
      },
      "execution_count": 12,
      "outputs": [
        {
          "output_type": "stream",
          "name": "stdout",
          "text": [
            "[]\n",
            "[]\n",
            "[]\n",
            "[]\n",
            "[]\n",
            "[]\n",
            "[]\n",
            "[]\n",
            "[]\n",
            "[]\n",
            "[]\n",
            "[]\n",
            "['A']\n",
            "['A']\n",
            "['A']\n",
            "['A', 'S']\n",
            "['A', 'S']\n",
            "['A', 'S']\n",
            "['A', 'S', 'S']\n",
            "['A', 'S', 'S']\n",
            "['A', 'S', 'S']\n",
            "['A', 'S', 'S']\n",
            "['A', 'S', 'S']\n",
            "['A', 'S', 'S']\n",
            "['A', 'S', 'S', 'H']\n"
          ]
        }
      ]
    },
    {
      "cell_type": "code",
      "source": [
        "lst1=set(lst)"
      ],
      "metadata": {
        "id": "Pxk8OJQUo9wM"
      },
      "execution_count": 13,
      "outputs": []
    },
    {
      "cell_type": "code",
      "source": [
        "lst1"
      ],
      "metadata": {
        "id": "OtVwRbMbo9zr",
        "colab": {
          "base_uri": "https://localhost:8080/"
        },
        "outputId": "4de549fa-9816-465d-9662-0a65e40630c3"
      },
      "execution_count": 14,
      "outputs": [
        {
          "output_type": "execute_result",
          "data": {
            "text/plain": [
              "{'A', 'H', 'S'}"
            ]
          },
          "metadata": {},
          "execution_count": 14
        }
      ]
    },
    {
      "cell_type": "code",
      "source": [
        "# write a program to find out total number of vowels from below string"
      ],
      "metadata": {
        "id": "QRg9XAlu_GPu"
      },
      "execution_count": null,
      "outputs": []
    },
    {
      "cell_type": "code",
      "source": [
        "stri=(\"You learn more from failures then from success\")"
      ],
      "metadata": {
        "id": "BYDVU8dF_GSn"
      },
      "execution_count": 15,
      "outputs": []
    },
    {
      "cell_type": "code",
      "source": [
        "stri"
      ],
      "metadata": {
        "colab": {
          "base_uri": "https://localhost:8080/",
          "height": 35
        },
        "id": "Fu3xUvBk_GVg",
        "outputId": "fadb9dd5-d617-49ea-8687-1bf1e0b5a728"
      },
      "execution_count": 16,
      "outputs": [
        {
          "output_type": "execute_result",
          "data": {
            "text/plain": [
              "'You learn more from failures then from success'"
            ],
            "application/vnd.google.colaboratory.intrinsic+json": {
              "type": "string"
            }
          },
          "metadata": {},
          "execution_count": 16
        }
      ]
    },
    {
      "cell_type": "code",
      "source": [
        "vowel=['a','e','i','o','u']"
      ],
      "metadata": {
        "id": "GGZVV5gE_GYf"
      },
      "execution_count": 17,
      "outputs": []
    },
    {
      "cell_type": "code",
      "source": [
        "vowel"
      ],
      "metadata": {
        "colab": {
          "base_uri": "https://localhost:8080/"
        },
        "id": "r1i04Dzj_GbJ",
        "outputId": "bca44649-768a-49ea-d795-75745c7c6011"
      },
      "execution_count": 18,
      "outputs": [
        {
          "output_type": "execute_result",
          "data": {
            "text/plain": [
              "['a', 'e', 'i', 'o', 'u']"
            ]
          },
          "metadata": {},
          "execution_count": 18
        }
      ]
    },
    {
      "cell_type": "code",
      "source": [
        "Num_lst=list()"
      ],
      "metadata": {
        "id": "1MA16Psm_Gd1"
      },
      "execution_count": 19,
      "outputs": []
    },
    {
      "cell_type": "code",
      "source": [
        "for i in stri:\n",
        " for x in vowel:\n",
        "   if i==x:\n",
        "      Num_lst.append(i)"
      ],
      "metadata": {
        "id": "BnWgsAcg_Ggc"
      },
      "execution_count": 20,
      "outputs": []
    },
    {
      "cell_type": "code",
      "source": [
        "print(Num_lst)"
      ],
      "metadata": {
        "colab": {
          "base_uri": "https://localhost:8080/"
        },
        "id": "kN_Z_P53_GjU",
        "outputId": "96dbc7bc-9c82-4bbe-c46b-e6689f643c46"
      },
      "execution_count": 21,
      "outputs": [
        {
          "output_type": "stream",
          "name": "stdout",
          "text": [
            "['o', 'u', 'e', 'a', 'o', 'e', 'o', 'a', 'i', 'u', 'e', 'e', 'o', 'u', 'e']\n"
          ]
        }
      ]
    },
    {
      "cell_type": "code",
      "source": [
        "len(Num_lst)"
      ],
      "metadata": {
        "colab": {
          "base_uri": "https://localhost:8080/"
        },
        "id": "g8iAg48s_yhj",
        "outputId": "97d03c44-19a0-43bf-c343-9eb0ab176589"
      },
      "execution_count": 22,
      "outputs": [
        {
          "output_type": "execute_result",
          "data": {
            "text/plain": [
              "15"
            ]
          },
          "metadata": {},
          "execution_count": 22
        }
      ]
    },
    {
      "cell_type": "code",
      "source": [
        "total_vowels =len(Num_lst)\n",
        "total_vowels"
      ],
      "metadata": {
        "colab": {
          "base_uri": "https://localhost:8080/"
        },
        "id": "KNShUFxV_ykK",
        "outputId": "f2dc0249-1eea-42a2-ff1a-d075397a9a6c"
      },
      "execution_count": 23,
      "outputs": [
        {
          "output_type": "execute_result",
          "data": {
            "text/plain": [
              "15"
            ]
          },
          "metadata": {},
          "execution_count": 23
        }
      ]
    },
    {
      "cell_type": "code",
      "source": [
        "# copying objects in lst and tuple\n",
        "Lst=[1,3,4,5]\n",
        "# copying the object in list\n",
        "Lst1=list()\n",
        "print(Lst1)\n",
        "# using copy()\n",
        "Lst1=Lst.copy()\n",
        "print(Lst1)\n",
        "Lst2 =Lst1[1:3]\n",
        "print(Lst2)"
      ],
      "metadata": {
        "colab": {
          "base_uri": "https://localhost:8080/"
        },
        "id": "zwJ2h5Y-_ynQ",
        "outputId": "e1cdd402-de4f-4e97-caa0-b5ae54b7fe98"
      },
      "execution_count": 25,
      "outputs": [
        {
          "output_type": "stream",
          "name": "stdout",
          "text": [
            "[]\n",
            "[1, 3, 4, 5]\n",
            "[3, 4]\n"
          ]
        }
      ]
    },
    {
      "cell_type": "code",
      "source": [
        "# copying the object into tuple\n",
        "tup1=(1,2,3,\"string\",2.35)\n",
        "tup2=tup1[:]\n",
        "tup2"
      ],
      "metadata": {
        "colab": {
          "base_uri": "https://localhost:8080/"
        },
        "id": "Y6Qq7GRW_yqy",
        "outputId": "fd591c2f-5257-4a8c-8bda-2134397da23b"
      },
      "execution_count": 26,
      "outputs": [
        {
          "output_type": "execute_result",
          "data": {
            "text/plain": [
              "(1, 2, 3, 'string', 2.35)"
            ]
          },
          "metadata": {},
          "execution_count": 26
        }
      ]
    },
    {
      "cell_type": "code",
      "source": [
        "#write a program to find total number of elements that are exactly divided by 10 from below list"
      ],
      "metadata": {
        "id": "9piHFnEwDZuX"
      },
      "execution_count": null,
      "outputs": []
    },
    {
      "cell_type": "code",
      "source": [
        "Lst=[10,20,35,40,50,45]"
      ],
      "metadata": {
        "id": "qy3oI_wGDZxa"
      },
      "execution_count": 27,
      "outputs": []
    },
    {
      "cell_type": "code",
      "source": [
        "num1_lst =list()"
      ],
      "metadata": {
        "id": "5GLy1UFVDZ0M"
      },
      "execution_count": 28,
      "outputs": []
    },
    {
      "cell_type": "code",
      "source": [
        "for i in Lst:\n",
        "   if i%10==0:\n",
        "    num1_lst.append(i)\n",
        "    print(num1_lst)\n",
        "   else:\n",
        "    print(\"number not divisible by 10\")"
      ],
      "metadata": {
        "colab": {
          "base_uri": "https://localhost:8080/"
        },
        "id": "L7tex1aiDZ3G",
        "outputId": "4df8c9bd-c0d5-4b29-d839-49d40f56a4d2"
      },
      "execution_count": 29,
      "outputs": [
        {
          "output_type": "stream",
          "name": "stdout",
          "text": [
            "[10]\n",
            "[10, 20]\n",
            "number not divisible by 10\n",
            "[10, 20, 40]\n",
            "[10, 20, 40, 50]\n",
            "number not divisible by 10\n"
          ]
        }
      ]
    },
    {
      "cell_type": "code",
      "source": [
        "len(num1_lst)"
      ],
      "metadata": {
        "colab": {
          "base_uri": "https://localhost:8080/"
        },
        "id": "feo8LSV5DZ5_",
        "outputId": "f19b9139-efdd-47b9-f4d2-97dc4c612519"
      },
      "execution_count": 30,
      "outputs": [
        {
          "output_type": "execute_result",
          "data": {
            "text/plain": [
              "4"
            ]
          },
          "metadata": {},
          "execution_count": 30
        }
      ]
    },
    {
      "cell_type": "code",
      "source": [],
      "metadata": {
        "id": "jYZPtxG_DZ9Y"
      },
      "execution_count": null,
      "outputs": []
    }
  ]
}
