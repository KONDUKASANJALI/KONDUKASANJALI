{
  "nbformat": 4,
  "nbformat_minor": 0,
  "metadata": {
    "colab": {
      "provenance": [],
      "authorship_tag": "ABX9TyMCJlLPW+6AbVZKwBhZOgm5",
      "include_colab_link": true
    },
    "kernelspec": {
      "name": "python3",
      "display_name": "Python 3"
    },
    "language_info": {
      "name": "python"
    }
  },
  "cells": [
    {
      "cell_type": "markdown",
      "metadata": {
        "id": "view-in-github",
        "colab_type": "text"
      },
      "source": [
        "<a href=\"https://colab.research.google.com/github/KONDUKASANJALI/test-cases-python/blob/main/Untitled40.ipynb\" target=\"_parent\"><img src=\"https://colab.research.google.com/assets/colab-badge.svg\" alt=\"Open In Colab\"/></a>"
      ]
    },
    {
      "cell_type": "markdown",
      "source": [
        "program to make a userfriendly caluculator"
      ],
      "metadata": {
        "id": "SUlwN34s38Oz"
      }
    },
    {
      "cell_type": "code",
      "source": [
        "def add(a,b):\n",
        "  return a+b\n",
        "def sub(a,b):\n",
        "  return a-b\n",
        "def mul(a,b):\n",
        "  return(a*b)\n",
        "def div(a,b):\n",
        "  return(a/b)"
      ],
      "metadata": {
        "id": "5r150JcQ4Cmh"
      },
      "execution_count": null,
      "outputs": []
    },
    {
      "cell_type": "code",
      "source": [
        "print(\"1. ADDITION\")\n",
        "print(\"2.SUBTRACTION\")\n",
        "print(\"3.MULTIPLICATION\")\n",
        "print(\"4.DIVISION\")\n",
        "print(\"please select option 1/2/3/4\")"
      ],
      "metadata": {
        "colab": {
          "base_uri": "https://localhost:8080/"
        },
        "id": "Rzm22jEH4Cp8",
        "outputId": "fa77c700-8602-48c1-f417-48ed6de56c4a"
      },
      "execution_count": null,
      "outputs": [
        {
          "output_type": "stream",
          "name": "stdout",
          "text": [
            "1. ADDITION\n",
            "2.SUBTRACTION\n",
            "3.MULTIPLICATION\n",
            "4.DIVISION\n",
            "please select option 1/2/3/4\n"
          ]
        }
      ]
    },
    {
      "cell_type": "code",
      "source": [
        "choice=int(input(\"choose an option: \"))\n",
        "x=int(input(\"Enter a number: \"))\n",
        "y=int(input(\"Enter a number:\"))"
      ],
      "metadata": {
        "colab": {
          "base_uri": "https://localhost:8080/"
        },
        "id": "ItocLRHp4DPF",
        "outputId": "aa0ffa33-dda5-4afd-e0a1-f5a43a9225e0"
      },
      "execution_count": null,
      "outputs": [
        {
          "name": "stdout",
          "output_type": "stream",
          "text": [
            "choose an option: 3\n",
            "Enter a number: 8\n",
            "Enter a number:8\n"
          ]
        }
      ]
    },
    {
      "cell_type": "code",
      "source": [
        "if choice==1:\n",
        "  n=add(x,y)\n",
        "  print(\"Addtion is = \",n)\n",
        "elif choice==2:\n",
        "  n=sub(x,y)\n",
        "  print(\"Subtraction is = \",n)\n",
        "elif choice==3:\n",
        "  n=mul(x,y)\n",
        "  print(\"Multiplication is = \",n)\n",
        "elif choice==4:\n",
        "  n=div(x,y)\n",
        "  print(\"Division is = \",n)\n",
        "else:\n",
        "  print(\"Invalid option choosed\")"
      ],
      "metadata": {
        "colab": {
          "base_uri": "https://localhost:8080/"
        },
        "id": "xlpC7J9-4DSc",
        "outputId": "f4ab4fe8-122b-4e5c-cf43-771ca423af54"
      },
      "execution_count": null,
      "outputs": [
        {
          "output_type": "stream",
          "name": "stdout",
          "text": [
            "Multiplication is =  64\n"
          ]
        }
      ]
    },
    {
      "cell_type": "code",
      "source": [],
      "metadata": {
        "id": "vVvQIVUE4DVC"
      },
      "execution_count": null,
      "outputs": []
    },
    {
      "cell_type": "code",
      "source": [],
      "metadata": {
        "id": "K_cSskeJ4DXp"
      },
      "execution_count": null,
      "outputs": []
    },
    {
      "cell_type": "code",
      "source": [],
      "metadata": {
        "id": "2n7dT1X-4Da_"
      },
      "execution_count": null,
      "outputs": []
    }
  ]
}
